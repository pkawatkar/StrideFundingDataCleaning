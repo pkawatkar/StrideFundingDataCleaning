{
 "cells": [
  {
   "cell_type": "code",
   "execution_count": 3,
   "metadata": {},
   "outputs": [
    {
     "name": "stdout",
     "output_type": "stream",
     "text": [
      "Dataset downloaded successfully to /Users/pooja/Library/Messages/Attachments/f1/01/1312D067-3B4D-410D-BE13-85D348450EAA/dataset.csv\n"
     ]
    }
   ],
   "source": [
    "import requests\n",
    "import os\n",
    "# FIELD OF STUDY DATASET\n",
    "def field_of_study_download_dataset(url, save_path):\n",
    "    \"\"\"\n",
    "    Download a dataset from a given URL and save it to the specified path.\n",
    "    \"\"\"\n",
    "    # Send a GET request to the URL\n",
    "    response = requests.get(url)\n",
    "\n",
    "    # Check if the request was successful (status code 200)\n",
    "    if response.status_code == 200:\n",
    "        # Save the content to a local file\n",
    "        with open(save_path, 'wb') as file:\n",
    "            file.write(response.content)\n",
    "        print(f\"Dataset downloaded successfully to {save_path}\")\n",
    "    else:\n",
    "        print(f\"Error: Unable to download dataset. Status code: {response.status_code}\")\n",
    "\n",
    "if __name__ == \"__main__\":\n",
    "  \n",
    "    dataset_url = \"https://ed-public-download.app.cloud.gov/downloads/Most-Recent-Cohorts-Field-of-Study_09262023.zip\"\n",
    "\n",
    "    local_save_path = os.path.join(os.getcwd(), \"field-of-study_dataset.csv\")\n",
    "\n",
    "    field_of_study_download_dataset(dataset_url, local_save_path)\n"
   ]
  },
  {
   "cell_type": "markdown",
   "metadata": {},
   "source": []
  },
  {
   "cell_type": "code",
   "execution_count": 1,
   "metadata": {},
   "outputs": [
    {
     "name": "stdout",
     "output_type": "stream",
     "text": [
      "Dataset downloaded successfully to /Users/pooja/Library/Messages/Attachments/f1/01/1312D067-3B4D-410D-BE13-85D348450EAA/dataset.csv\n"
     ]
    }
   ],
   "source": [
    "import requests\n",
    "import os\n",
    "# CIP-SOC DATASET\n",
    "def cip_soc_download_dataset(url, save_path):\n",
    "    \"\"\"\n",
    "    Download a dataset from a given URL and save it to the specified path.\n",
    "    \"\"\"\n",
    "    # Send a GET request to the URL\n",
    "    response = requests.get(url)\n",
    "\n",
    "    # Check if the request was successful (status code 200)\n",
    "    if response.status_code == 200:\n",
    "        # Save the content to a local file\n",
    "        with open(save_path, 'wb') as file:\n",
    "            file.write(response.content)\n",
    "        print(f\"Dataset downloaded successfully to {save_path}\")\n",
    "    else:\n",
    "        print(f\"Error: Unable to download dataset. Status code: {response.status_code}\")\n",
    "\n",
    "if __name__ == \"__main__\":\n",
    "  \n",
    "    dataset_url = \"https://nces.ed.gov/ipeds/cipcode/Files/CIP2020_SOC2018_Crosswalk.xlsx\"\n",
    "\n",
    "    local_save_path = os.path.join(os.getcwd(), \"cip-soc_dataset.csv\")\n",
    "\n",
    "    cip_soc_download_dataset(dataset_url, local_save_path)"
   ]
  },
  {
   "cell_type": "markdown",
   "metadata": {},
   "source": []
  },
  {
   "cell_type": "code",
   "execution_count": 4,
   "metadata": {},
   "outputs": [
    {
     "name": "stdout",
     "output_type": "stream",
     "text": [
      "Dataset downloaded successfully to /Users/pooja/Library/Messages/Attachments/f1/01/1312D067-3B4D-410D-BE13-85D348450EAA/dataset.csv\n"
     ]
    }
   ],
   "source": [
    "import requests\n",
    "import os\n",
    "#SCHOOL LOCATION DATASET\n",
    "def school_location_download_dataset(url, save_path):\n",
    "    \"\"\"\n",
    "    Download a dataset from a given URL and save it to the specified path.\n",
    "    \"\"\"\n",
    "    # Send a GET request to the URL\n",
    "    response = requests.get(url)\n",
    "\n",
    "    # Check if the request was successful (status code 200)\n",
    "    if response.status_code == 200:\n",
    "        # Save the content to a local file\n",
    "        with open(save_path, 'wb') as file:\n",
    "            file.write(response.content)\n",
    "        print(f\"Dataset downloaded successfully to {save_path}\")\n",
    "    else:\n",
    "        print(f\"Error: Unable to download dataset. Status code: {response.status_code}\")\n",
    "\n",
    "if __name__ == \"__main__\":\n",
    "  \n",
    "    dataset_url = \"https://ed-public-download.app.cloud.gov/downloads/Most-Recent-Cohorts-Institution_09262023.zip\"\n",
    "\n",
    "    local_save_path = os.path.join(os.getcwd(), \"school-location_dataset.csv\")\n",
    "\n",
    "    school_location_download_dataset(dataset_url, local_save_path)"
   ]
  },
  {
   "cell_type": "code",
   "execution_count": 1,
   "metadata": {},
   "outputs": [
    {
     "name": "stdout",
     "output_type": "stream",
     "text": [
      "Error: Unable to download dataset. Status code: 403\n"
     ]
    }
   ],
   "source": [
    "import requests\n",
    "import os\n",
    "\n",
    "def download_dataset(url, save_path):\n",
    "    \"\"\"\n",
    "    Download a dataset from a given URL and save it to the specified path.\n",
    "    \"\"\"\n",
    "    # Send a GET request to the URL\n",
    "    response = requests.get(url)\n",
    "\n",
    "    # Check if the request was successful (status code 200)\n",
    "    if response.status_code == 200:\n",
    "        # Save the content to a local file\n",
    "        with open(save_path, 'wb') as file:\n",
    "            file.write(response.content)\n",
    "        print(f\"Dataset downloaded successfully to {save_path}\")\n",
    "    else:\n",
    "        print(f\"Error: Unable to download dataset. Status code: {response.status_code}\")\n",
    "\n",
    "if __name__ == \"__main__\":\n",
    "  \n",
    "    dataset_url = \"https://www.bls.gov/oes/special-requests/oesm22nat.zip\"\n",
    "\n",
    "    local_save_path = os.path.join(os.getcwd(), \"dataset.csv\")\n",
    "\n",
    "    download_dataset(dataset_url, local_save_path)"
   ]
  },
  {
   "cell_type": "code",
   "execution_count": null,
   "metadata": {},
   "outputs": [],
   "source": [
    "import pandas as pd\n",
    "\n",
    "# Specify the path to your Excel file\n",
    "excel_file_path = 'https://wpi0-my.sharepoint.com/:x:/g/personal/dhnguyen2_wpi_edu/Ef5it8xd1kZJlF80PG9ZgVwBvluDT_w21IlAsT7PLOV_AA?e=hhlXIv'\n",
    "\n",
    "# Read the Excel file into a pandas DataFrame\n",
    "df = pd.read_excel(excel_file_path)\n",
    "\n",
    "# Display the DataFrame\n",
    "print(df)"
   ]
  },
  {
   "cell_type": "code",
   "execution_count": null,
   "metadata": {},
   "outputs": [],
   "source": [
    "# FIELD OF STUDY Cleaning\n",
    "\n"
   ]
  },
  {
   "cell_type": "code",
   "execution_count": null,
   "metadata": {},
   "outputs": [],
   "source": []
  },
  {
   "cell_type": "code",
   "execution_count": null,
   "metadata": {},
   "outputs": [],
   "source": []
  },
  {
   "cell_type": "code",
   "execution_count": null,
   "metadata": {},
   "outputs": [],
   "source": []
  },
  {
   "cell_type": "markdown",
   "metadata": {},
   "source": []
  },
  {
   "cell_type": "code",
   "execution_count": null,
   "metadata": {},
   "outputs": [],
   "source": []
  },
  {
   "cell_type": "code",
   "execution_count": null,
   "metadata": {},
   "outputs": [],
   "source": []
  }
 ],
 "metadata": {
  "kernelspec": {
   "display_name": "Python 3.8.8 ('base')",
   "language": "python",
   "name": "python3"
  },
  "language_info": {
   "codemirror_mode": {
    "name": "ipython",
    "version": 3
   },
   "file_extension": ".py",
   "mimetype": "text/x-python",
   "name": "python",
   "nbconvert_exporter": "python",
   "pygments_lexer": "ipython3",
   "version": "3.8.8"
  },
  "orig_nbformat": 4,
  "vscode": {
   "interpreter": {
    "hash": "d2a48ad3583f8d369e1ab2031ca35f1f4cf7da7af7d424bbddd6c916ab6cc8c9"
   }
  }
 },
 "nbformat": 4,
 "nbformat_minor": 2
}
