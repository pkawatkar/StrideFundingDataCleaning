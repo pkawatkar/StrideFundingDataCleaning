{
 "cells": [
  {
   "cell_type": "code",
   "execution_count": 31,
   "metadata": {},
   "outputs": [
    {
     "name": "stdout",
     "output_type": "stream",
     "text": [
      "Dataset downloaded successfully to /Users/pooja/Documents/GitHub/StrideFundingDataCleaning/field-of-study_dataset.zip\n"
     ]
    }
   ],
   "source": [
    "import requests\n",
    "import os\n",
    "# FIELD OF STUDY DATASET\n",
    "def field_of_study_download_dataset(url, save_path):\n",
    "    \"\"\"\n",
    "    Download a dataset from a given URL and save it to the specified path.\n",
    "    \"\"\"\n",
    "    # Send a GET request to the URL\n",
    "    response = requests.get(url)\n",
    "\n",
    "    # Check if the request was successful (status code 200)\n",
    "    if response.status_code == 200:\n",
    "        # Save the content to a local file\n",
    "        with open(save_path, 'wb') as file:\n",
    "            file.write(response.content)\n",
    "        print(f\"Dataset downloaded successfully to {save_path}\")\n",
    "    else:\n",
    "        print(f\"Error: Unable to download dataset. Status code: {response.status_code}\")\n",
    "\n",
    "if __name__ == \"__main__\":\n",
    "  \n",
    "    dataset_url = \"https://ed-public-download.app.cloud.gov/downloads/Most-Recent-Cohorts-Field-of-Study_09262023.zip\"\n",
    "\n",
    "    local_save_path = os.path.join(os.getcwd(), \"field-of-study_dataset.zip\")\n",
    "\n",
    "    field_of_study_download_dataset(dataset_url, local_save_path)\n"
   ]
  },
  {
   "cell_type": "markdown",
   "metadata": {},
   "source": []
  },
  {
   "cell_type": "code",
   "execution_count": 32,
   "metadata": {},
   "outputs": [
    {
     "name": "stdout",
     "output_type": "stream",
     "text": [
      "Dataset downloaded successfully to /Users/pooja/Documents/GitHub/StrideFundingDataCleaning/cip-soc_dataset.zip\n"
     ]
    }
   ],
   "source": [
    "import requests\n",
    "import os\n",
    "# CIP-SOC DATASET\n",
    "def cip_soc_download_dataset(url, save_path):\n",
    "    \"\"\"\n",
    "    Download a dataset from a given URL and save it to the specified path.\n",
    "    \"\"\"\n",
    "    # Send a GET request to the URL\n",
    "    response = requests.get(url)\n",
    "\n",
    "    # Check if the request was successful (status code 200)\n",
    "    if response.status_code == 200:\n",
    "        # Save the content to a local file\n",
    "        with open(save_path, 'wb') as file:\n",
    "            file.write(response.content)\n",
    "        print(f\"Dataset downloaded successfully to {save_path}\")\n",
    "    else:\n",
    "        print(f\"Error: Unable to download dataset. Status code: {response.status_code}\")\n",
    "\n",
    "if __name__ == \"__main__\":\n",
    "  \n",
    "    dataset_url = \"https://nces.ed.gov/ipeds/cipcode/Files/CIP2020_SOC2018_Crosswalk.xlsx\"\n",
    "\n",
    "    local_save_path = os.path.join(os.getcwd(), \"cip-soc_dataset.zip\")\n",
    "\n",
    "    cip_soc_download_dataset(dataset_url, local_save_path)"
   ]
  },
  {
   "cell_type": "markdown",
   "metadata": {},
   "source": []
  },
  {
   "cell_type": "code",
   "execution_count": 33,
   "metadata": {},
   "outputs": [
    {
     "name": "stdout",
     "output_type": "stream",
     "text": [
      "Dataset downloaded successfully to /Users/pooja/Documents/GitHub/StrideFundingDataCleaning/school-location_dataset.zip\n"
     ]
    }
   ],
   "source": [
    "import requests\n",
    "import os\n",
    "#SCHOOL LOCATION DATASET\n",
    "def school_location_download_dataset(url, save_path):\n",
    "    \"\"\"\n",
    "    Download a dataset from a given URL and save it to the specified path.\n",
    "    \"\"\"\n",
    "    # Send a GET request to the URL\n",
    "    response = requests.get(url)\n",
    "\n",
    "    # Check if the request was successful (status code 200)\n",
    "    if response.status_code == 200:\n",
    "        # Save the content to a local file\n",
    "        with open(save_path, 'wb') as file:\n",
    "            file.write(response.content)\n",
    "        print(f\"Dataset downloaded successfully to {save_path}\")\n",
    "    else:\n",
    "        print(f\"Error: Unable to download dataset. Status code: {response.status_code}\")\n",
    "\n",
    "if __name__ == \"__main__\":\n",
    "  \n",
    "    dataset_url = \"https://ed-public-download.app.cloud.gov/downloads/Most-Recent-Cohorts-Institution_09262023.zip\"\n",
    "\n",
    "    local_save_path = os.path.join(os.getcwd(), \"school-location_dataset.zip\")\n",
    "\n",
    "    school_location_download_dataset(dataset_url, local_save_path)"
   ]
  },
  {
   "cell_type": "code",
   "execution_count": 34,
   "metadata": {},
   "outputs": [
    {
     "name": "stdout",
     "output_type": "stream",
     "text": [
      "Error: Unable to download dataset. Status code: 403\n"
     ]
    }
   ],
   "source": [
    "import requests\n",
    "import os\n",
    "\n",
    "def download_dataset(url, save_path):\n",
    "    \"\"\"\n",
    "    Download a dataset from a given URL and save it to the specified path.\n",
    "    \"\"\"\n",
    "    # Send a GET request to the URL\n",
    "    response = requests.get(url)\n",
    "\n",
    "    # Check if the request was successful (status code 200)\n",
    "    if response.status_code == 200:\n",
    "        # Save the content to a local file\n",
    "        with open(save_path, 'wb') as file:\n",
    "            file.write(response.content)\n",
    "        print(f\"Dataset downloaded successfully to {save_path}\")\n",
    "    else:\n",
    "        print(f\"Error: Unable to download dataset. Status code: {response.status_code}\")\n",
    "\n",
    "if __name__ == \"__main__\":\n",
    "  \n",
    "    dataset_url = \"https://www.bls.gov/oes/special-requests/oesm22nat.zip\"\n",
    "\n",
    "    local_save_path = os.path.join(os.getcwd(), \"dataset.csv\")\n",
    "\n",
    "    download_dataset(dataset_url, local_save_path)"
   ]
  },
  {
   "cell_type": "code",
   "execution_count": 35,
   "metadata": {},
   "outputs": [
    {
     "data": {
      "text/plain": [
       "\"\\n# Specify the path to your Excel file\\nexcel_file_path = 'https://wpi0-my.sharepoint.com/:x:/g/personal/dhnguyen2_wpi_edu/Ef5it8xd1kZJlF80PG9ZgVwBvluDT_w21IlAsT7PLOV_AA?e=hhlXIv'\\n\\n# Read the Excel file into a pandas DataFrame\\ndf = pd.read_excel(excel_file_path)\\n\\n# Display the DataFrame\\nprint(df)\\n\""
      ]
     },
     "execution_count": 35,
     "metadata": {},
     "output_type": "execute_result"
    }
   ],
   "source": [
    "import pandas as pd\n",
    "import zipfile\n",
    "'''\n",
    "# Specify the path to your Excel file\n",
    "excel_file_path = 'https://wpi0-my.sharepoint.com/:x:/g/personal/dhnguyen2_wpi_edu/Ef5it8xd1kZJlF80PG9ZgVwBvluDT_w21IlAsT7PLOV_AA?e=hhlXIv'\n",
    "\n",
    "# Read the Excel file into a pandas DataFrame\n",
    "df = pd.read_excel(excel_file_path)\n",
    "\n",
    "# Display the DataFrame\n",
    "print(df)\n",
    "'''"
   ]
  },
  {
   "cell_type": "code",
   "execution_count": 38,
   "metadata": {},
   "outputs": [
    {
     "data": {
      "text/html": [
       "<div>\n",
       "<style scoped>\n",
       "    .dataframe tbody tr th:only-of-type {\n",
       "        vertical-align: middle;\n",
       "    }\n",
       "\n",
       "    .dataframe tbody tr th {\n",
       "        vertical-align: top;\n",
       "    }\n",
       "\n",
       "    .dataframe thead th {\n",
       "        text-align: right;\n",
       "    }\n",
       "</style>\n",
       "<table border=\"1\" class=\"dataframe\">\n",
       "  <thead>\n",
       "    <tr style=\"text-align: right;\">\n",
       "      <th></th>\n",
       "      <th>OPEID6</th>\n",
       "      <th>INSTITUTION</th>\n",
       "      <th>CONTROL</th>\n",
       "      <th>CIPCODE</th>\n",
       "      <th>CIPDESC</th>\n",
       "      <th>CREDLEV</th>\n",
       "      <th>CREDDESC</th>\n",
       "    </tr>\n",
       "  </thead>\n",
       "  <tbody>\n",
       "    <tr>\n",
       "      <th>0</th>\n",
       "      <td>1002</td>\n",
       "      <td>Alabama A &amp; M University</td>\n",
       "      <td>Public</td>\n",
       "      <td>100</td>\n",
       "      <td>Agriculture, General.</td>\n",
       "      <td>3</td>\n",
       "      <td>Bachelor's Degree</td>\n",
       "    </tr>\n",
       "    <tr>\n",
       "      <th>1</th>\n",
       "      <td>1002</td>\n",
       "      <td>Alabama A &amp; M University</td>\n",
       "      <td>Public</td>\n",
       "      <td>101</td>\n",
       "      <td>Agricultural Business and Management.</td>\n",
       "      <td>3</td>\n",
       "      <td>Bachelor's Degree</td>\n",
       "    </tr>\n",
       "    <tr>\n",
       "      <th>2</th>\n",
       "      <td>1002</td>\n",
       "      <td>Alabama A &amp; M University</td>\n",
       "      <td>Public</td>\n",
       "      <td>109</td>\n",
       "      <td>Animal Sciences.</td>\n",
       "      <td>3</td>\n",
       "      <td>Bachelor's Degree</td>\n",
       "    </tr>\n",
       "    <tr>\n",
       "      <th>3</th>\n",
       "      <td>1002</td>\n",
       "      <td>Alabama A &amp; M University</td>\n",
       "      <td>Public</td>\n",
       "      <td>110</td>\n",
       "      <td>Food Science and Technology.</td>\n",
       "      <td>3</td>\n",
       "      <td>Bachelor's Degree</td>\n",
       "    </tr>\n",
       "    <tr>\n",
       "      <th>4</th>\n",
       "      <td>1002</td>\n",
       "      <td>Alabama A &amp; M University</td>\n",
       "      <td>Public</td>\n",
       "      <td>110</td>\n",
       "      <td>Food Science and Technology.</td>\n",
       "      <td>5</td>\n",
       "      <td>Master's Degree</td>\n",
       "    </tr>\n",
       "    <tr>\n",
       "      <th>...</th>\n",
       "      <td>...</td>\n",
       "      <td>...</td>\n",
       "      <td>...</td>\n",
       "      <td>...</td>\n",
       "      <td>...</td>\n",
       "      <td>...</td>\n",
       "      <td>...</td>\n",
       "    </tr>\n",
       "    <tr>\n",
       "      <th>233974</th>\n",
       "      <td>42640</td>\n",
       "      <td>California Southern University</td>\n",
       "      <td>Private, for-profit</td>\n",
       "      <td>4228</td>\n",
       "      <td>Clinical, Counseling and Applied Psychology.</td>\n",
       "      <td>7</td>\n",
       "      <td>First Professional Degree</td>\n",
       "    </tr>\n",
       "    <tr>\n",
       "      <th>233975</th>\n",
       "      <td>42640</td>\n",
       "      <td>California Southern University</td>\n",
       "      <td>Private, for-profit</td>\n",
       "      <td>5138</td>\n",
       "      <td>Registered Nursing, Nursing Administration, Nu...</td>\n",
       "      <td>3</td>\n",
       "      <td>Bachelor's Degree</td>\n",
       "    </tr>\n",
       "    <tr>\n",
       "      <th>233976</th>\n",
       "      <td>42924</td>\n",
       "      <td>Body Wisdom Massage Therapy School</td>\n",
       "      <td>Private, for-profit</td>\n",
       "      <td>5135</td>\n",
       "      <td>Somatic Bodywork and Related Therapeutic Servi...</td>\n",
       "      <td>1</td>\n",
       "      <td>Undergraduate Certificate or Diploma</td>\n",
       "    </tr>\n",
       "    <tr>\n",
       "      <th>233977</th>\n",
       "      <td>42961</td>\n",
       "      <td>Madera Community College</td>\n",
       "      <td>Public</td>\n",
       "      <td>2401</td>\n",
       "      <td>Liberal Arts and Sciences, General Studies and...</td>\n",
       "      <td>2</td>\n",
       "      <td>Associate's Degree</td>\n",
       "    </tr>\n",
       "    <tr>\n",
       "      <th>233978</th>\n",
       "      <td>42961</td>\n",
       "      <td>Madera Community College</td>\n",
       "      <td>Public</td>\n",
       "      <td>5138</td>\n",
       "      <td>Registered Nursing, Nursing Administration, Nu...</td>\n",
       "      <td>2</td>\n",
       "      <td>Associate's Degree</td>\n",
       "    </tr>\n",
       "  </tbody>\n",
       "</table>\n",
       "<p>233979 rows × 7 columns</p>\n",
       "</div>"
      ],
      "text/plain": [
       "        OPEID6                         INSTITUTION              CONTROL  \\\n",
       "0         1002            Alabama A & M University               Public   \n",
       "1         1002            Alabama A & M University               Public   \n",
       "2         1002            Alabama A & M University               Public   \n",
       "3         1002            Alabama A & M University               Public   \n",
       "4         1002            Alabama A & M University               Public   \n",
       "...        ...                                 ...                  ...   \n",
       "233974   42640      California Southern University  Private, for-profit   \n",
       "233975   42640      California Southern University  Private, for-profit   \n",
       "233976   42924  Body Wisdom Massage Therapy School  Private, for-profit   \n",
       "233977   42961            Madera Community College               Public   \n",
       "233978   42961            Madera Community College               Public   \n",
       "\n",
       "        CIPCODE                                            CIPDESC  CREDLEV  \\\n",
       "0           100                              Agriculture, General.        3   \n",
       "1           101              Agricultural Business and Management.        3   \n",
       "2           109                                   Animal Sciences.        3   \n",
       "3           110                       Food Science and Technology.        3   \n",
       "4           110                       Food Science and Technology.        5   \n",
       "...         ...                                                ...      ...   \n",
       "233974     4228       Clinical, Counseling and Applied Psychology.        7   \n",
       "233975     5138  Registered Nursing, Nursing Administration, Nu...        3   \n",
       "233976     5135  Somatic Bodywork and Related Therapeutic Servi...        1   \n",
       "233977     2401  Liberal Arts and Sciences, General Studies and...        2   \n",
       "233978     5138  Registered Nursing, Nursing Administration, Nu...        2   \n",
       "\n",
       "                                    CREDDESC  \n",
       "0                          Bachelor's Degree  \n",
       "1                          Bachelor's Degree  \n",
       "2                          Bachelor's Degree  \n",
       "3                          Bachelor's Degree  \n",
       "4                            Master's Degree  \n",
       "...                                      ...  \n",
       "233974             First Professional Degree  \n",
       "233975                     Bachelor's Degree  \n",
       "233976  Undergraduate Certificate or Diploma  \n",
       "233977                    Associate's Degree  \n",
       "233978                    Associate's Degree  \n",
       "\n",
       "[233979 rows x 7 columns]"
      ]
     },
     "execution_count": 38,
     "metadata": {},
     "output_type": "execute_result"
    }
   ],
   "source": [
    "# FIELD OF STUDY Cleaning\n",
    "field_of_study_df = pd.read_csv('field-of-study_dataset.zip', compression = 'zip')\n",
    "field_of_study_df = field_of_study_df[['OPEID6', 'INSTNM', 'CONTROL', 'CIPCODE', 'CIPDESC', 'CREDLEV', 'CREDDESC']]\n",
    "field_of_study_df.rename(columns = {\"CONTROL\":\"TYPE\"})\n",
    "field_of_study_df.rename(columns = {\"CIPDESC\":\"MAJOR\"})\n",
    "field_of_study_df.rename(columns = {\"INSTNM\":\"INSTITUTION\"})"
   ]
  },
  {
   "cell_type": "code",
   "execution_count": null,
   "metadata": {},
   "outputs": [],
   "source": [
    "# CIP-SOC Cleaning\n",
    "cip_soc_df = pd.read_csv('cip-soc_dataset.zip', compression='zip')\n",
    "cip_soc_df = cip_soc_df[['UNITID', 'OPEID', 'OPEID6', 'INSTMN', 'CITY', 'STABBR', 'ZIP', 'LONGITUDE', 'LATITUDE']]"
   ]
  },
  {
   "cell_type": "code",
   "execution_count": null,
   "metadata": {},
   "outputs": [],
   "source": []
  },
  {
   "cell_type": "code",
   "execution_count": null,
   "metadata": {},
   "outputs": [],
   "source": []
  },
  {
   "cell_type": "markdown",
   "metadata": {},
   "source": []
  },
  {
   "cell_type": "code",
   "execution_count": null,
   "metadata": {},
   "outputs": [],
   "source": []
  },
  {
   "cell_type": "code",
   "execution_count": null,
   "metadata": {},
   "outputs": [],
   "source": []
  }
 ],
 "metadata": {
  "kernelspec": {
   "display_name": "Python 3.8.8 ('base')",
   "language": "python",
   "name": "python3"
  },
  "language_info": {
   "codemirror_mode": {
    "name": "ipython",
    "version": 3
   },
   "file_extension": ".py",
   "mimetype": "text/x-python",
   "name": "python",
   "nbconvert_exporter": "python",
   "pygments_lexer": "ipython3",
   "version": "3.8.8"
  },
  "orig_nbformat": 4,
  "vscode": {
   "interpreter": {
    "hash": "d2a48ad3583f8d369e1ab2031ca35f1f4cf7da7af7d424bbddd6c916ab6cc8c9"
   }
  }
 },
 "nbformat": 4,
 "nbformat_minor": 2
}
